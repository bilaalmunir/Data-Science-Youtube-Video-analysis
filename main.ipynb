{
 "cells": [
  {
   "cell_type": "markdown",
   "metadata": {},
   "source": [
    "# This is my workbook in which i will be analysing the stuff."
   ]
  },
  {
   "cell_type": "code",
   "execution_count": 106,
   "metadata": {},
   "outputs": [],
   "source": [
    "import pandas as pd\n",
    "import numpy as np\n",
    "import matplotlib.pyplot as plt"
   ]
  },
  {
   "cell_type": "code",
   "execution_count": 3,
   "metadata": {},
   "outputs": [
    {
     "data": {
      "text/html": [
       "<div>\n",
       "<style scoped>\n",
       "    .dataframe tbody tr th:only-of-type {\n",
       "        vertical-align: middle;\n",
       "    }\n",
       "\n",
       "    .dataframe tbody tr th {\n",
       "        vertical-align: top;\n",
       "    }\n",
       "\n",
       "    .dataframe thead th {\n",
       "        text-align: right;\n",
       "    }\n",
       "</style>\n",
       "<table border=\"1\" class=\"dataframe\">\n",
       "  <thead>\n",
       "    <tr style=\"text-align: right;\">\n",
       "      <th></th>\n",
       "      <th>Title</th>\n",
       "      <th>Video ID</th>\n",
       "      <th>Published At</th>\n",
       "      <th>Keyword</th>\n",
       "      <th>Likes</th>\n",
       "      <th>Comments</th>\n",
       "      <th>Views</th>\n",
       "    </tr>\n",
       "  </thead>\n",
       "  <tbody>\n",
       "    <tr>\n",
       "      <th>0</th>\n",
       "      <td>Apple Pay Is Killing the Physical Wallet After...</td>\n",
       "      <td>wAZZ-UWGVHI</td>\n",
       "      <td>23/08/2022</td>\n",
       "      <td>tech</td>\n",
       "      <td>3407.0</td>\n",
       "      <td>672.0</td>\n",
       "      <td>135612.0</td>\n",
       "    </tr>\n",
       "    <tr>\n",
       "      <th>1</th>\n",
       "      <td>The most EXPENSIVE thing I own.</td>\n",
       "      <td>b3x28s61q3c</td>\n",
       "      <td>24/08/2022</td>\n",
       "      <td>tech</td>\n",
       "      <td>76779.0</td>\n",
       "      <td>4306.0</td>\n",
       "      <td>1758063.0</td>\n",
       "    </tr>\n",
       "    <tr>\n",
       "      <th>2</th>\n",
       "      <td>My New House Gaming Setup is SICK!</td>\n",
       "      <td>4mgePWWCAmA</td>\n",
       "      <td>23/08/2022</td>\n",
       "      <td>tech</td>\n",
       "      <td>63825.0</td>\n",
       "      <td>3338.0</td>\n",
       "      <td>1564007.0</td>\n",
       "    </tr>\n",
       "    <tr>\n",
       "      <th>3</th>\n",
       "      <td>Petrol Vs Liquid Nitrogen | Freezing Experimen...</td>\n",
       "      <td>kXiYSI7H2b0</td>\n",
       "      <td>23/08/2022</td>\n",
       "      <td>tech</td>\n",
       "      <td>71566.0</td>\n",
       "      <td>1426.0</td>\n",
       "      <td>922918.0</td>\n",
       "    </tr>\n",
       "    <tr>\n",
       "      <th>4</th>\n",
       "      <td>Best Back to School Tech 2022!</td>\n",
       "      <td>ErMwWXQxHp0</td>\n",
       "      <td>08/08/2022</td>\n",
       "      <td>tech</td>\n",
       "      <td>96513.0</td>\n",
       "      <td>5155.0</td>\n",
       "      <td>1855644.0</td>\n",
       "    </tr>\n",
       "  </tbody>\n",
       "</table>\n",
       "</div>"
      ],
      "text/plain": [
       "                                               Title     Video ID  \\\n",
       "0  Apple Pay Is Killing the Physical Wallet After...  wAZZ-UWGVHI   \n",
       "1                    The most EXPENSIVE thing I own.  b3x28s61q3c   \n",
       "2                 My New House Gaming Setup is SICK!  4mgePWWCAmA   \n",
       "3  Petrol Vs Liquid Nitrogen | Freezing Experimen...  kXiYSI7H2b0   \n",
       "4                     Best Back to School Tech 2022!  ErMwWXQxHp0   \n",
       "\n",
       "  Published At Keyword    Likes  Comments      Views  \n",
       "0   23/08/2022    tech   3407.0     672.0   135612.0  \n",
       "1   24/08/2022    tech  76779.0    4306.0  1758063.0  \n",
       "2   23/08/2022    tech  63825.0    3338.0  1564007.0  \n",
       "3   23/08/2022    tech  71566.0    1426.0   922918.0  \n",
       "4   08/08/2022    tech  96513.0    5155.0  1855644.0  "
      ]
     },
     "execution_count": 3,
     "metadata": {},
     "output_type": "execute_result"
    }
   ],
   "source": [
    "videos_stats = pd.read_csv('videos_stats.csv')\n",
    "videos_stats.head()"
   ]
  },
  {
   "cell_type": "code",
   "execution_count": 5,
   "metadata": {},
   "outputs": [
    {
     "data": {
      "text/html": [
       "<div>\n",
       "<style scoped>\n",
       "    .dataframe tbody tr th:only-of-type {\n",
       "        vertical-align: middle;\n",
       "    }\n",
       "\n",
       "    .dataframe tbody tr th {\n",
       "        vertical-align: top;\n",
       "    }\n",
       "\n",
       "    .dataframe thead th {\n",
       "        text-align: right;\n",
       "    }\n",
       "</style>\n",
       "<table border=\"1\" class=\"dataframe\">\n",
       "  <thead>\n",
       "    <tr style=\"text-align: right;\">\n",
       "      <th></th>\n",
       "      <th>Video ID</th>\n",
       "      <th>Comment</th>\n",
       "      <th>Likes</th>\n",
       "      <th>Sentiment</th>\n",
       "    </tr>\n",
       "  </thead>\n",
       "  <tbody>\n",
       "    <tr>\n",
       "      <th>0</th>\n",
       "      <td>wAZZ-UWGVHI</td>\n",
       "      <td>Let's not forget that Apple Pay in 2014 requir...</td>\n",
       "      <td>95</td>\n",
       "      <td>1</td>\n",
       "    </tr>\n",
       "    <tr>\n",
       "      <th>1</th>\n",
       "      <td>wAZZ-UWGVHI</td>\n",
       "      <td>Here in NZ 50% of retailers don’t even have co...</td>\n",
       "      <td>19</td>\n",
       "      <td>0</td>\n",
       "    </tr>\n",
       "    <tr>\n",
       "      <th>2</th>\n",
       "      <td>wAZZ-UWGVHI</td>\n",
       "      <td>I will forever acknowledge this channel with t...</td>\n",
       "      <td>161</td>\n",
       "      <td>2</td>\n",
       "    </tr>\n",
       "    <tr>\n",
       "      <th>3</th>\n",
       "      <td>wAZZ-UWGVHI</td>\n",
       "      <td>Whenever I go to a place that doesn’t take App...</td>\n",
       "      <td>8</td>\n",
       "      <td>0</td>\n",
       "    </tr>\n",
       "    <tr>\n",
       "      <th>4</th>\n",
       "      <td>wAZZ-UWGVHI</td>\n",
       "      <td>Apple Pay is so convenient, secure, and easy t...</td>\n",
       "      <td>34</td>\n",
       "      <td>2</td>\n",
       "    </tr>\n",
       "  </tbody>\n",
       "</table>\n",
       "</div>"
      ],
      "text/plain": [
       "      Video ID                                            Comment  Likes  \\\n",
       "0  wAZZ-UWGVHI  Let's not forget that Apple Pay in 2014 requir...     95   \n",
       "1  wAZZ-UWGVHI  Here in NZ 50% of retailers don’t even have co...     19   \n",
       "2  wAZZ-UWGVHI  I will forever acknowledge this channel with t...    161   \n",
       "3  wAZZ-UWGVHI  Whenever I go to a place that doesn’t take App...      8   \n",
       "4  wAZZ-UWGVHI  Apple Pay is so convenient, secure, and easy t...     34   \n",
       "\n",
       "   Sentiment  \n",
       "0          1  \n",
       "1          0  \n",
       "2          2  \n",
       "3          0  \n",
       "4          2  "
      ]
     },
     "execution_count": 5,
     "metadata": {},
     "output_type": "execute_result"
    }
   ],
   "source": [
    "comments = pd.read_csv('comments.csv')\n",
    "comments.head()"
   ]
  },
  {
   "cell_type": "code",
   "execution_count": 19,
   "metadata": {},
   "outputs": [],
   "source": [
    "keywords=[]\n",
    "for key in videos_stats['Keyword']:\n",
    "    if key in keywords:\n",
    "        pass\n",
    "    else:\n",
    "        keywords.append(key)"
   ]
  },
  {
   "cell_type": "code",
   "execution_count": 88,
   "metadata": {},
   "outputs": [],
   "source": [
    "grouped_data = videos_stats.groupby('Keyword')\n",
    "keyword_data = {}\n",
    "for keyword, group_data in grouped_data:\n",
    "    likes = group_data['Likes'].fillna(0).tolist()\n",
    "    comments = group_data['Comments'].fillna(0).tolist()\n",
    "    views = group_data['Views'].fillna(0).tolist()\n",
    "    keyword_data[keyword] = {\n",
    "        'likes' : likes,\n",
    "        'comments' : comments,\n",
    "        'views' : views\n",
    "    }\n"
   ]
  },
  {
   "cell_type": "code",
   "execution_count": 89,
   "metadata": {},
   "outputs": [
    {
     "name": "stdout",
     "output_type": "stream",
     "text": [
      "{'total_likes': 1693347.0, 'total_comments': 59301.0, 'total_views': 63004908.0}\n"
     ]
    }
   ],
   "source": [
    "keywords_data_summed = {}\n",
    "\n",
    "for keyword in keyword_data:\n",
    "    \n",
    "    likes_count = keyword_data[keyword]['likes']\n",
    "    comments_count = keyword_data[keyword]['comments']\n",
    "    views_count = keyword_data[keyword]['views']\n",
    "    \n",
    "    counted_likes = np.sum(likes_count)\n",
    "    counted_comments = np.sum(comments_count)\n",
    "    counted_views = np.sum(views_count)\n",
    "    \n",
    "    keywords_data_summed[keyword] = {\n",
    "        'total_likes' : counted_likes,\n",
    "        'total_comments' : counted_comments,\n",
    "        'total_views' : counted_views\n",
    "    }\n",
    "\n",
    "print(keywords_data_summed['machine learning'])"
   ]
  },
  {
   "cell_type": "code",
   "execution_count": 112,
   "metadata": {},
   "outputs": [
    {
     "data": {
      "text/plain": [
       "[('mrbeast', 105295718.0),\n",
       " ('animals', 28909480.0),\n",
       " ('google', 21202537.0),\n",
       " ('bed', 20842016.0),\n",
       " ('cubes', 15153060.0),\n",
       " ('music', 14452653.0),\n",
       " ('history', 13670533.0),\n",
       " ('marvel', 10518960.0),\n",
       " ('tutorial', 8386044.0),\n",
       " ('how-to', 7627111.0),\n",
       " ('mukbang', 6363299.0),\n",
       " ('apple', 4959314.0),\n",
       " ('physics', 4935045.0),\n",
       " ('food', 4560703.0),\n",
       " ('sports', 4435425.0),\n",
       " ('reaction', 3697989.0),\n",
       " ('interview', 3666347.0),\n",
       " ('business', 3455285.0),\n",
       " ('biology', 3124738.0),\n",
       " ('trolling', 3069352.0),\n",
       " ('minecraft', 3058978.0),\n",
       " ('lofi', 3010876.0),\n",
       " ('tech', 2905652.0),\n",
       " ('nintendo', 2139530.0),\n",
       " ('xbox', 1902183.0),\n",
       " ('asmr', 1830765.0),\n",
       " ('chess', 1693992.0),\n",
       " ('machine learning', 1693347.0),\n",
       " ('computer science', 1615850.0),\n",
       " ('sat', 1520509.0),\n",
       " ('education', 1495016.0),\n",
       " ('mathchemistry', 1407730.0),\n",
       " ('movies', 1384796.0),\n",
       " ('game development', 1308934.0),\n",
       " ('gaming', 1070583.0),\n",
       " ('data science', 858789.0),\n",
       " ('literature', 819969.0),\n",
       " ('finance', 516184.0),\n",
       " ('cnn', 441787.0),\n",
       " ('crypto', 426068.0),\n",
       " ('news', 117511.0)]"
      ]
     },
     "execution_count": 112,
     "metadata": {},
     "output_type": "execute_result"
    }
   ],
   "source": [
    "keyword_likes_list = [(keyword, likes['total_likes']) for keyword, likes in keywords_data_summed.items()]\n",
    "sorted_keywords_likes_list = sorted(keyword_likes_list, key=lambda x: x[1], reverse=True)\n",
    "\n",
    "sorted_keywords_likes_list"
   ]
  },
  {
   "cell_type": "code",
   "execution_count": 111,
   "metadata": {},
   "outputs": [
    {
     "data": {
      "text/plain": [
       "[('mrbeast', 4797224.0),\n",
       " ('google', 1019079.0),\n",
       " ('history', 1009501.0),\n",
       " ('animals', 831129.0),\n",
       " ('bed', 667962.0),\n",
       " ('music', 565291.0),\n",
       " ('marvel', 485034.0),\n",
       " ('tutorial', 396770.0),\n",
       " ('cnn', 378737.0),\n",
       " ('apple', 361992.0),\n",
       " ('cubes', 341654.0),\n",
       " ('mukbang', 335312.0),\n",
       " ('how-to', 333669.0),\n",
       " ('interview', 271412.0),\n",
       " ('food', 265114.0),\n",
       " ('physics', 222060.0),\n",
       " ('biology', 201745.0),\n",
       " ('sports', 187573.0),\n",
       " ('nintendo', 177347.0),\n",
       " ('reaction', 162336.0),\n",
       " ('movies', 155742.0),\n",
       " ('trolling', 152841.0),\n",
       " ('tech', 151304.0),\n",
       " ('minecraft', 142186.0),\n",
       " ('xbox', 140651.0),\n",
       " ('sat', 99347.0),\n",
       " ('education', 98723.0),\n",
       " ('lofi', 98397.0),\n",
       " ('business', 88339.0),\n",
       " ('mathchemistry', 80532.0),\n",
       " ('chess', 69199.0),\n",
       " ('game development', 68817.0),\n",
       " ('asmr', 61365.0),\n",
       " ('machine learning', 59301.0),\n",
       " ('gaming', 59207.0),\n",
       " ('computer science', 56197.0),\n",
       " ('news', 46154.0),\n",
       " ('finance', 42277.0),\n",
       " ('literature', 40473.0),\n",
       " ('crypto', 27331.0),\n",
       " ('data science', 25876.0)]"
      ]
     },
     "execution_count": 111,
     "metadata": {},
     "output_type": "execute_result"
    }
   ],
   "source": [
    "keywords_comments_lists = [(keyword, comments['total_comments']) for keyword, comments in keywords_data_summed.items()]\n",
    "sorted_keywords_comments_list = sorted(keywords_comments_lists, key=lambda x: x[1], reverse=True)\n",
    "sorted_keywords_comments_list"
   ]
  },
  {
   "cell_type": "code",
   "execution_count": 113,
   "metadata": {},
   "outputs": [
    {
     "data": {
      "text/plain": [
       "[('google', 4651423680.0),\n",
       " ('animals', 3599510515.0),\n",
       " ('mrbeast', 3338200199.0),\n",
       " ('bed', 2371302059.0),\n",
       " ('music', 1350785090.0),\n",
       " ('history', 752356506.0),\n",
       " ('cubes', 751936967.0),\n",
       " ('mukbang', 490714756.0),\n",
       " ('apple', 451371079.0),\n",
       " ('sports', 421459032.0),\n",
       " ('how-to', 374845676.0),\n",
       " ('business', 347345017.0),\n",
       " ('tutorial', 338051601.0),\n",
       " ('marvel', 330703978.0),\n",
       " ('food', 252115500.0),\n",
       " ('movies', 215488638.0),\n",
       " ('biology', 193715474.0),\n",
       " ('physics', 184619364.0),\n",
       " ('lofi', 163588861.0),\n",
       " ('interview', 148305593.0),\n",
       " ('tech', 92102733.0),\n",
       " ('minecraft', 90638537.0),\n",
       " ('asmr', 85330791.0),\n",
       " ('xbox', 83495065.0),\n",
       " ('nintendo', 79922028.0),\n",
       " ('trolling', 71007051.0),\n",
       " ('education', 64426388.0),\n",
       " ('machine learning', 63004908.0),\n",
       " ('chess', 62194816.0),\n",
       " ('computer science', 57214018.0),\n",
       " ('sat', 52227567.0),\n",
       " ('mathchemistry', 49921879.0),\n",
       " ('literature', 39698977.0),\n",
       " ('game development', 36234427.0),\n",
       " ('reaction', 31158623.0),\n",
       " ('cnn', 27712019.0),\n",
       " ('data science', 27238599.0),\n",
       " ('finance', 27074714.0),\n",
       " ('gaming', 22344756.0),\n",
       " ('crypto', 20230411.0),\n",
       " ('news', 9652195.0)]"
      ]
     },
     "execution_count": 113,
     "metadata": {},
     "output_type": "execute_result"
    }
   ],
   "source": [
    "keywords_views_list = [(keyword, views['total_views']) for keyword, views in keywords_data_summed.items()]\n",
    "sorted_keywords_views_list  = sorted(keywords_views_list, key = lambda x:x[1], reverse=True)\n",
    "sorted_keywords_views_list"
   ]
  },
  {
   "cell_type": "code",
   "execution_count": 123,
   "metadata": {},
   "outputs": [],
   "source": [
    "top_ten_keywords_views = sorted_keywords_views_list[:10]\n",
    "top_ten_keywords_likes = sorted_keywords_likes_list[:10]\n",
    "top_ten_keywords_comments = sorted_keywords_comments_list[:10]\n",
    "\n",
    "views_keywords = [item[0] for item in top_ten_keywords_views]\n",
    "views_counts = [item[1]/ 1e9 for item in top_ten_keywords_views]\n",
    "\n",
    "likes_keywords = [item[0] for item in top_ten_keywords_likes]\n",
    "likes_counts = [item[1]/ 1e9 for item in top_ten_keywords_likes]\n",
    "\n",
    "comments_keywords = [item[0] for item in top_ten_keywords_comments]\n",
    "comments_counts = [item[1]/ 1e9 for item in top_ten_keywords_comments]"
   ]
  },
  {
   "cell_type": "code",
   "execution_count": 128,
   "metadata": {},
   "outputs": [
    {
     "data": {
      "image/png": "[encoded data removed]",
      "text/plain": [
       "<Figure size 1000x600 with 1 Axes>"
      ]
     },
     "metadata": {},
     "output_type": "display_data"
    }
   ],
   "source": [
    "plt.figure(figsize=(10, 6))\n",
    "plt.bar(views_keywords, views_counts, color='skyblue')\n",
    "plt.xlabel('Keywords')\n",
    "plt.ylabel('Total Views')\n",
    "plt.title('Top Ten Keywords by Most Views in Billions')\n",
    "\n",
    "# Rotate x-axis labels for better visibility\n",
    "plt.xticks(rotation=45, ha='right')\n",
    "\n",
    "plt.tight_layout()\n",
    "plt.show()"
   ]
  },
  {
   "cell_type": "code",
   "execution_count": null,
   "metadata": {},
   "outputs": [],
   "source": []
  }
 ],
 "metadata": {
  "kernelspec": {
   "display_name": "Python 3",
   "language": "python",
   "name": "python3"
  },
  "language_info": {
   "codemirror_mode": {
    "name": "ipython",
    "version": 3
   },
   "file_extension": ".py",
   "mimetype": "text/x-python",
   "name": "python",
   "nbconvert_exporter": "python",
   "pygments_lexer": "ipython3",
   "version": "3.12.3"
  }
 },
 "nbformat": 4,
 "nbformat_minor": 2
}
